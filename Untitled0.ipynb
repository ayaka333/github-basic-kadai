{
  "nbformat": 4,
  "nbformat_minor": 0,
  "metadata": {
    "colab": {
      "provenance": [],
      "authorship_tag": "ABX9TyOHStR7iKTw8fdB1XEvteko",
      "include_colab_link": true
    },
    "kernelspec": {
      "name": "python3",
      "display_name": "Python 3"
    },
    "language_info": {
      "name": "python"
    }
  },
  "cells": [
    {
      "cell_type": "markdown",
      "metadata": {
        "id": "view-in-github",
        "colab_type": "text"
      },
      "source": [
        "<a href=\"https://colab.research.google.com/github/ayaka333/github-basic-kadai/blob/main/Untitled0.ipynb\" target=\"_parent\"><img src=\"https://colab.research.google.com/assets/colab-badge.svg\" alt=\"Open In Colab\"/></a>"
      ]
    },
    {
      "cell_type": "markdown",
      "source": [],
      "metadata": {
        "id": "5fVM_9r5cA7v"
      }
    },
    {
      "cell_type": "code",
      "source": [
        "# グローバル変数を定義する\n",
        "user_name = \"侍花子\"\n",
        "\n",
        "def show_user_name():\n",
        "    # ローカル変数を定義する\n",
        "   # user_name = \"侍太郎\"\n",
        "    user_name = \"侍太郎\"\n",
        "   # グローバルスコープの範囲外でグローバル変数を使う（エラーが発生する）\n",
        "   # ローカルスコープの範囲内でローカル変数を使う\n",
        "    print(user_name)\n",
        "\n",
        "show_user_name()\n",
        "\n",
        "# グローバルスコープの範囲内でグローバル変数を使う\n",
        "print(user_name)\n",
        "\n",
        "\n",
        "\n",
        "\n",
        "\n",
        "\n",
        "class Product:\n",
        "    def __init__(self):\n",
        "        self.name = \"\"\n",
        "\n",
        "    # メソッドを定義する\n",
        "    def set_name(self, name):\n",
        "        self.name = name\n",
        "\n",
        "    def show_name(self):\n",
        "        print(self.name)\n",
        "\n",
        "# インスタンス化する\n",
        "coffee = Product()\n",
        "\n",
        "# メソッドにアクセスして実行する\n",
        "coffee.set_name(\"コーヒー\")\n",
        "coffee.show_name()\n",
        "\n",
        "\n",
        "\n",
        "!rm /etc/localtime\n",
        "!ln -s /usr/share/zoneinfo/Asia/Tokyo /etc/localtime\n",
        "!date\n",
        "\n",
        "\n",
        "\n",
        "# timeモジュールをインポート\n",
        "import time\n",
        "\n",
        "# 現在の日時を指定したフォーマットで出力する\n",
        "print(time.strftime(\"%Y年%m月%d日%H時%M分%S秒\", time.localtime()))\n",
        "\n"
      ],
      "metadata": {
        "colab": {
          "base_uri": "https://localhost:8080/"
        },
        "id": "hEWfTq_mcBP0",
        "outputId": "58c2e630-357e-41c6-e9ab-3a61ad2478b4"
      },
      "execution_count": 10,
      "outputs": [
        {
          "output_type": "stream",
          "name": "stdout",
          "text": [
            "侍太郎\n",
            "侍花子\n",
            "コーヒー\n",
            "Tue Mar 26 05:18:21 PM JST 2024\n",
            "2024年03月26日08時18分22秒\n"
          ]
        }
      ]
    }
  ]
}